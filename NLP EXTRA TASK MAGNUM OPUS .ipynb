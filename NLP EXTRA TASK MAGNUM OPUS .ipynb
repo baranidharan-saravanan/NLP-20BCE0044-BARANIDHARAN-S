{
 "cells": [
  {
   "cell_type": "code",
   "execution_count": 12,
   "id": "ce218533",
   "metadata": {},
   "outputs": [
    {
     "data": {
      "text/plain": [
       "CountVectorizer(binary=True)"
      ]
     },
     "execution_count": 12,
     "metadata": {},
     "output_type": "execute_result"
    }
   ],
   "source": [
    "#NLP EXTRA TASK BASED ON CORPUS AND COSINE SIMILARITY \n",
    "#MAGNUM OPUS\n",
    "#BARANIDHARAN S\n",
    "#20BCE0044\n",
    "#20-02-23\n",
    "\n",
    "\n",
    "import sklearn\n",
    "from sklearn.feature_extraction.text import CountVectorizer\n",
    "vect = CountVectorizer(binary = True)\n",
    "\n",
    "#THIS CORPUS HOLDS OSCAR AWARD ACCEPTANCE SPEECH OF LEONARDO DICAPRIO\n",
    "corpus = [\"\"\"Thank you all so very much. Thank you to The Academy. I have to congratulate the other incredible nominees in this room for their unbelievable performances.\n",
    "The Revenant was the product of an unbelievable cast and crew I got to work alongside. First off, to my brother in this endeavor, Mr. Tom Hardy. Tom, your fierice talent on screen can only be surpassed off screen by Mr. Alejandro Inarritu. \n",
    "As the history of cinema unfolds, you have forged your way into history this past two years. What an unbelievable talent you are.\n",
    "Thank you to you and [Emmanuel] Chivo [Lubezki] for creating a transcendent cinematic experience for all of us.\n",
    "Thank you to everyone at Fox and Regency. Ana Melching, you were the champion of this endeavor.And lastly, I just want to say this, making The Revenant was about man's relationship to the natural world — \n",
    "the world that we collectively felt in 2015 as the hottest year in recorded history. Our production had to move to the southernmost tip of this planet just to be able to find snow. Climate change is real, it is happening right now,\n",
    "it is the most urgent threat facing our entire species, and we need to work collectively together and stop procrastinating.I have to thank everyone from the very onset of my career — Mr. [Unclear name] Jones for casting me in my first film.\n",
    "Mr. Scorsese for teaching me so much about the cinematic art form. To Mr. Rick Yorn, thank you for helping me navigate this industry. And, to my parents, none of this would be possible without you, and, to my friends, I love you dearly, you know who you are.\"\"\"]\n",
    "vect.fit(corpus)"
   ]
  },
  {
   "cell_type": "code",
   "execution_count": 13,
   "id": "953fa312",
   "metadata": {},
   "outputs": [
    {
     "name": "stdout",
     "output_type": "stream",
     "text": [
      "thank:120\n",
      "you:152\n",
      "all:5\n",
      "so:113\n",
      "very:137\n",
      "much:77\n",
      "to:127\n",
      "the:122\n",
      "academy:3\n",
      "have:53\n",
      "congratulate:28\n",
      "other:91\n",
      "incredible:59\n",
      "nominees:83\n",
      "in:57\n",
      "this:124\n",
      "room:108\n",
      "for:43\n",
      "their:123\n",
      "unbelievable:132\n",
      "performances:95\n",
      "revenant:105\n",
      "was:139\n",
      "product:99\n",
      "of:86\n",
      "an:7\n",
      "cast:19\n",
      "and:9\n",
      "crew:30\n",
      "got:49\n",
      "work:146\n",
      "alongside:6\n",
      "first:42\n",
      "off:87\n",
      "my:78\n",
      "brother:15\n",
      "endeavor:33\n",
      "mr:76\n",
      "tom:129\n",
      "hardy:52\n",
      "your:153\n",
      "fierice:39\n",
      "talent:118\n",
      "on:88\n",
      "screen:111\n",
      "can:17\n",
      "only:89\n",
      "be:14\n",
      "surpassed:117\n",
      "by:16\n",
      "alejandro:4\n",
      "inarritu:58\n",
      "as:12\n",
      "history:55\n",
      "cinema:24\n",
      "unfolds:134\n",
      "forged:44\n",
      "way:140\n",
      "into:61\n",
      "past:94\n",
      "two:131\n",
      "years:150\n",
      "what:143\n",
      "are:10\n",
      "emmanuel:32\n",
      "chivo:23\n",
      "lubezki:69\n",
      "creating:29\n",
      "transcendent:130\n",
      "cinematic:25\n",
      "experience:36\n",
      "us:136\n",
      "everyone:35\n",
      "at:13\n",
      "fox:46\n",
      "regency:103\n",
      "ana:8\n",
      "melching:73\n",
      "were:142\n",
      "champion:21\n",
      "lastly:67\n",
      "just:65\n",
      "want:138\n",
      "say:109\n",
      "making:70\n",
      "about:2\n",
      "man:71\n",
      "relationship:104\n",
      "natural:80\n",
      "world:147\n",
      "that:121\n",
      "we:141\n",
      "collectively:27\n",
      "felt:38\n",
      "2015:0\n",
      "hottest:56\n",
      "year:149\n",
      "recorded:102\n",
      "our:92\n",
      "production:100\n",
      "had:50\n",
      "move:75\n",
      "southernmost:114\n",
      "tip:126\n",
      "planet:96\n",
      "able:1\n",
      "find:41\n",
      "snow:112\n",
      "climate:26\n",
      "change:22\n",
      "is:62\n",
      "real:101\n",
      "it:63\n",
      "happening:51\n",
      "right:107\n",
      "now:85\n",
      "most:74\n",
      "urgent:135\n",
      "threat:125\n",
      "facing:37\n",
      "entire:34\n",
      "species:115\n",
      "need:82\n",
      "together:128\n",
      "stop:116\n",
      "procrastinating:98\n",
      "from:48\n",
      "onset:90\n",
      "career:18\n",
      "unclear:133\n",
      "name:79\n",
      "jones:64\n",
      "casting:20\n",
      "me:72\n",
      "film:40\n",
      "scorsese:110\n",
      "teaching:119\n",
      "art:11\n",
      "form:45\n",
      "rick:106\n",
      "yorn:151\n",
      "helping:54\n",
      "navigate:81\n",
      "industry:60\n",
      "parents:93\n",
      "none:84\n",
      "would:148\n",
      "possible:97\n",
      "without:145\n",
      "friends:47\n",
      "love:68\n",
      "dearly:31\n",
      "know:66\n",
      "who:144\n"
     ]
    }
   ],
   "source": [
    "vocab = vect.vocabulary_\n",
    "for key in vocab.keys():\n",
    "  print(\"{}:{}\".format(key,vocab[key]))"
   ]
  },
  {
   "cell_type": "code",
   "execution_count": 14,
   "id": "fd761cfd",
   "metadata": {},
   "outputs": [
    {
     "data": {
      "text/plain": [
       "array([[0, 0, 0, 1, 0, 1, 1, 1, 0, 1, 0, 0, 0, 0, 0, 0, 0, 0, 0, 1, 0, 0,\n",
       "        0, 0, 0, 0, 0, 0, 1, 0, 1, 0, 0, 0, 0, 0, 0, 0, 0, 0, 0, 0, 0, 1,\n",
       "        0, 0, 0, 0, 0, 1, 0, 0, 0, 1, 0, 0, 0, 1, 0, 1, 0, 0, 0, 0, 0, 0,\n",
       "        0, 0, 0, 0, 0, 0, 0, 0, 0, 0, 0, 1, 0, 0, 0, 0, 0, 1, 0, 0, 1, 0,\n",
       "        0, 0, 0, 1, 0, 0, 0, 1, 0, 0, 0, 1, 0, 0, 0, 0, 0, 1, 0, 0, 1, 0,\n",
       "        0, 0, 0, 1, 0, 0, 0, 0, 0, 0, 1, 0, 1, 1, 1, 0, 0, 1, 0, 0, 0, 0,\n",
       "        1, 0, 0, 0, 0, 1, 0, 1, 0, 0, 0, 0, 0, 0, 1, 0, 0, 0, 0, 0, 1, 0]],\n",
       "      dtype=int64)"
      ]
     },
     "execution_count": 14,
     "metadata": {},
     "output_type": "execute_result"
    }
   ],
   "source": [
    "vect.transform([\"\"\"Thank you all so very much. Thank you to The Academy. I have to congratulate the other incredible nominees in this room for their unbelievable performances.\n",
    "The Revenant was the product of an unbelievable cast and crew I got to work alongside\"\"\"]).toarray()"
   ]
  },
  {
   "cell_type": "code",
   "execution_count": 15,
   "id": "63f31505",
   "metadata": {},
   "outputs": [
    {
     "name": "stdout",
     "output_type": "stream",
     "text": [
      "[[0.51639778]]\n"
     ]
    }
   ],
   "source": [
    "#THIS TEXT SIMILARITY CHECKER HOLDS OSCAR AWARD ACCEPTANCE SPEECH OF WILL SMITH\n",
    "from sklearn.metrics.pairwise import cosine_similarity\n",
    "similarity = cosine_similarity(vect.transform([\"\"\"Oh man. Richard Williams was a fierce defender of his family. In this time in my life. \n",
    "In this moment, I am overwhelmed by what God is calling on me to do and be in this world. Making this film, I got to protect Aunjanue Ellis, who was one of the strongest, most delicate people I’ve ever met. \n",
    "I got to protect Saniyya and Demi, the two actresses that played Venus and Serena.I’m being called on in my life to love people and to protect people and to be a river to my people. I know to do what we do, you got to be able to take abuse.\n",
    "You got to be able have people talk crazy about you. In this business, you got to be able to have people disrespecting you and you got to smile and you got to pretend like that’s okay, But Richard Williams,\"\"\"]).toarray(),vect.transform([\"\"\"And what I loved… Thank you, D. Denzel said to me a few minutes ago, he said “At your highest moment, be careful.\n",
    "That’s when the devil comes for you.” I want to be a vessel for love. I want to say thank you to Venus and Serena. I just spit. I hope they didn’t see that on TV. I want to say thank you to Venus and Serena and the entire Williams family for entrusting me with your story.\n",
    "That’s what I want to do. I want to be an ambassador of that kind of love and care and concern. I want to apologize to the academy. I want to apologize to all my fellow nominees. This is a beautiful moment and I’m not crying for winning an award. It’s not about winning an award for me. It’s about being able to shine light on all of the people. \n",
    "Tim and Trevor and Zach and Saniyya and Demi and Aunjanue and the entire cast and crew of King Richard and Venus and Serena. The entire Williams family. Art imitates life. I look like the crazy father, just like they said. I look like crazy father, just like they said about Richard William, but love will make you do crazy things.\"\"\"]).toarray())\n",
    "print(similarity)"
   ]
  },
  {
   "cell_type": "code",
   "execution_count": 16,
   "id": "95cfe9bf",
   "metadata": {},
   "outputs": [
    {
     "name": "stdout",
     "output_type": "stream",
     "text": [
      "[[0.77184498]]\n"
     ]
    }
   ],
   "source": [
    "#THIS TEXT SIMILARITY CHECKER HOLDS OSCAR AWARD ACCEPTANCE SPEECH OF JOAQUIN PHOENIX\n",
    "from sklearn.metrics.pairwise import cosine_similarity\n",
    "sim = cosine_similarity(vect.transform([\"\"\" God, I’m full of so much gratitude right now. And I do not feel elevated above any of my fellow nominees or anyone in this room because we share the same love, the love of film.\n",
    "And this form of expression has given me the most extraordinary life. I don’t know what I’d be without it. But I think the greatest gift that it’s given me, and many of us in this room, is the opportunity to use our voice for the voiceless.\n",
    "\n",
    "I’ve been thinking a lot about some of the distressing issues that we are facing collectively. I think at times we feel, or we’re made to feel, that we champion different causes. \n",
    "But for me, I see commonality. I think, whether we’re talking about gender inequality or racism or queer rights or indigenous rights or animal rights, we’re talking about the fight against injustice.\n",
    "We’re talking about the fight against the belief that one nation, one people, one race, one gender or one species has the right to dominate, control and use and exploit another with impunity.\n",
    "\n",
    "I think that we’ve become very disconnected from the natural world, and many of us, what we’re guilty of is an egocentric world view — the belief that we’re the center of the universe.\n",
    "We go into the natural world, and we plunder it for its resources. We feel entitled to artificially inseminate a cow, and when she gives birth, we steal her baby, even though her cries of anguish are unmistakable. \n",
    "Then we take her milk that’s intended for her calf, and we put it in our coffee and our cereal. And I think we fear the idea of personal change because we think that we have to sacrifice something, to give something up, but human beings, at our best, are so inventive and creative and ingenious.\n",
    "And I think that when we use love and compassion as our guiding principles, we can create, develop and implement systems of change that are beneficial to all sentient beings and to the environment.\"\"\"]).toarray(),vect.transform([\"\"\" I think that we’ve become very disconnected from the natural world, and many of us, what we’re guilty of is an egocentric world view — \n",
    "the belief that we’re the center of the universe. We go into the natural world, and we plunder it for its resources. We feel entitled to artificially inseminate a cow, and when she gives birth, we steal her baby, even though her cries of anguish are unmistakable. Then we take her milk that’s intended for her calf, and we put it in our coffee and our cereal. \n",
    "And I think we fear the idea of personal change because we think that we have to sacrifice something, to give something up, but human beings, at our best, are so inventive and creative and ingenious.\n",
    "And I think that when we use love and compassion as our guiding principles, we can create, develop and implement systems of change that are beneficial to all sentient beings and to the environment\"\"\"]).toarray())\n",
    "print(sim)"
   ]
  },
  {
   "cell_type": "code",
   "execution_count": null,
   "id": "afdcf3b5",
   "metadata": {},
   "outputs": [],
   "source": []
  }
 ],
 "metadata": {
  "kernelspec": {
   "display_name": "Python 3 (ipykernel)",
   "language": "python",
   "name": "python3"
  },
  "language_info": {
   "codemirror_mode": {
    "name": "ipython",
    "version": 3
   },
   "file_extension": ".py",
   "mimetype": "text/x-python",
   "name": "python",
   "nbconvert_exporter": "python",
   "pygments_lexer": "ipython3",
   "version": "3.9.12"
  }
 },
 "nbformat": 4,
 "nbformat_minor": 5
}
