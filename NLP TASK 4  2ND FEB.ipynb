{
 "cells": [
  {
   "cell_type": "code",
   "execution_count": 10,
   "id": "765de3bc",
   "metadata": {},
   "outputs": [],
   "source": [
    "#REG.NO.: 20BCE0044\n",
    "#NAME: BARANIDHARAN S\n",
    "#DATE 3-02-23\n",
    "#TASK 4 \n",
    "from urllib import request"
   ]
  },
  {
   "cell_type": "code",
   "execution_count": 4,
   "id": "fb6adfe2",
   "metadata": {},
   "outputs": [],
   "source": [
    "url = \"https://www.gutenberg.org/files/98/98-0.txt\"\n",
    "response = request.urlopen(url)\n",
    "raw = response.read().decode('utf8')"
   ]
  },
  {
   "cell_type": "code",
   "execution_count": 9,
   "id": "d2f63ae8",
   "metadata": {},
   "outputs": [],
   "source": [
    "#print(raw) raw contains the whole string of the book and now tokenize it "
   ]
  },
  {
   "cell_type": "code",
   "execution_count": 7,
   "id": "82ba807c",
   "metadata": {},
   "outputs": [],
   "source": [
    "import nltk\n",
    "from nltk.tokenize import word_tokenize\n",
    "tokens=word_tokenize(raw) \n"
   ]
  },
  {
   "cell_type": "code",
   "execution_count": 8,
   "id": "d9c36b28",
   "metadata": {
    "scrolled": true
   },
   "outputs": [
    {
     "name": "stdout",
     "output_type": "stream",
     "text": [
      "['\\ufeffThe', 'Project', 'Gutenberg', 'eBook', 'of', 'A', 'Tale', 'of', 'Two', 'Cities', ',', 'by', 'Charles', 'Dickens', 'This', 'eBook', 'is', 'for', 'the', 'use', 'of', 'anyone', 'anywhere', 'in', 'the', 'United', 'States', 'and', 'most', 'other', 'parts', 'of', 'the', 'world', 'at', 'no', 'cost', 'and', 'with', 'almost', 'no', 'restrictions', 'whatsoever', '.', 'You', 'may', 'copy', 'it', ',', 'give', 'it', 'away', 'or', 're-use', 'it', 'under', 'the', 'terms', 'of', 'the', 'Project', 'Gutenberg', 'License', 'included', 'with', 'this', 'eBook', 'or', 'online', 'at', 'www.gutenberg.org', '.', 'If', 'you', 'are', 'not', 'located', 'in', 'the', 'United', 'States', ',', 'you', 'will', 'have', 'to', 'check', 'the', 'laws', 'of', 'the', 'country', 'where', 'you', 'are', 'located', 'before', 'using', 'this', 'eBook', '.', 'Title', ':', 'A', 'Tale', 'of', 'Two', 'Cities', 'A', 'Story', 'of', 'the', 'French', 'Revolution', 'Author', ':', 'Charles', 'Dickens', 'Release', 'Date', ':', 'January', ',', '1994', '[', 'eBook', '#', '98', ']', '[', 'Most', 'recently', 'updated', ':', 'December', '20', ',', '2020', ']', 'Language', ':', 'English', 'Character', 'set', 'encoding', ':', 'UTF-8', 'Produced', 'by', ':', 'Judith', 'Boss', 'and', 'David', 'Widger', '*', '*', '*', 'START', 'OF', 'THE', 'PROJECT', 'GUTENBERG', 'EBOOK', 'A', 'TALE', 'OF', 'TWO', 'CITIES', '*', '*', '*', 'A', 'TALE', 'OF', 'TWO', 'CITIES', 'A', 'STORY', 'OF', 'THE', 'FRENCH', 'REVOLUTION', 'By', 'Charles', 'Dickens', 'CONTENTS', 'Book', 'the', 'First', '--', 'Recalled', 'to', 'Life', 'CHAPTER', 'I', 'The', 'Period', 'CHAPTER', 'II']\n"
     ]
    }
   ],
   "source": [
    "print(tokens[:200])"
   ]
  },
  {
   "cell_type": "code",
   "execution_count": 17,
   "id": "c3cdfee7",
   "metadata": {},
   "outputs": [
    {
     "data": {
      "text/plain": [
       "'happi'"
      ]
     },
     "execution_count": 17,
     "metadata": {},
     "output_type": "execute_result"
    }
   ],
   "source": [
    "#BeautifulSoup\n",
    "#preprocessing - RE to clean any html tags \n",
    "#POS Tagging \n",
    "\n",
    "import nltk\n",
    "from nltk.stem import PorterStemmer\n",
    "porter=PorterStemmer()\n",
    "porter.stem('happiness')"
   ]
  },
  {
   "cell_type": "code",
   "execution_count": 16,
   "id": "f0d2ed80",
   "metadata": {},
   "outputs": [
    {
     "data": {
      "text/plain": [
       "'happy'"
      ]
     },
     "execution_count": 16,
     "metadata": {},
     "output_type": "execute_result"
    }
   ],
   "source": [
    "import nltk\n",
    "from nltk.stem import LancasterStemmer\n",
    "lan=LancasterStemmer()\n",
    "lan.stem('happiness')"
   ]
  },
  {
   "cell_type": "code",
   "execution_count": 24,
   "id": "94722099",
   "metadata": {},
   "outputs": [
    {
     "data": {
      "text/plain": [
       "'walk'"
      ]
     },
     "execution_count": 24,
     "metadata": {},
     "output_type": "execute_result"
    }
   ],
   "source": [
    "import nltk\n",
    "from nltk.stem import RegexpStemmer\n",
    "regex=RegexpStemmer('ing')\n",
    "regex.stem('walking') \n",
    "#this doesn't work for singing "
   ]
  },
  {
   "cell_type": "code",
   "execution_count": 25,
   "id": "8b6c5101",
   "metadata": {},
   "outputs": [
    {
     "data": {
      "text/plain": [
       "'sing'"
      ]
     },
     "execution_count": 25,
     "metadata": {},
     "output_type": "execute_result"
    }
   ],
   "source": [
    "import nltk\n",
    "from nltk.stem import RegexpStemmer\n",
    "regex=RegexpStemmer('ing$')\n",
    "regex.stem('singing') \n",
    "#this works for singing but doesn't work for sing"
   ]
  },
  {
   "cell_type": "code",
   "execution_count": 34,
   "id": "be30a490",
   "metadata": {},
   "outputs": [
    {
     "data": {
      "text/plain": [
       "'pantalon'"
      ]
     },
     "execution_count": 34,
     "metadata": {},
     "output_type": "execute_result"
    }
   ],
   "source": [
    "import nltk\n",
    "from nltk.stem import SnowballStemmer\n",
    "sn=SnowballStemmer('french')\n",
    "sn.stem('pantalons') "
   ]
  },
  {
   "cell_type": "code",
   "execution_count": 41,
   "id": "41ce0ea8",
   "metadata": {},
   "outputs": [
    {
     "name": "stdout",
     "output_type": "stream",
     "text": [
      "['kohli', 'ha', 'won', 'man', 'of', 'the', 'tournament', 'award', 'twice', 'at', 'the', 'icc', 'world', 'twenty20,', 'in', '2014', 'and', '2016.', 'play', 'for', 'hi', 'franchis', 'in', 'ipl,', 'he', 'won', 'the', 'orang', 'cap', 'and', 'most-valu', 'player', 'award', 'in', '2016', 'season.', 'furthermor', 'ha', 'won', 'most', 'player', 'of', 'the', 'match', 'and', 'seri', 'award', 'in', 't20i.', 'with', '40', 'win', 'in', '68', 'test', 'matches,', 'he', 'is', \"india'\", 'most', 'success', 'test', 'captain.', 'kohli', 'ha', 'also', 'contribut', 'to', \"india'\", 'successes,', 'includ', 'win', 'the', '2011', 'world', 'cup', 'and', 'the', '2013', 'champion', 'trophi']\n"
     ]
    }
   ],
   "source": [
    "import nltk\n",
    "from nltk.stem import PorterStemmer\n",
    "porter=PorterStemmer()\n",
    "text=\"Kohli has won Man of the Tournament award twice at the ICC World Twenty20, in 2014 and 2016. Playing for his franchise in IPL, he won the Orange Cap and Most-valuable Player Award in 2016 season. Furthermore has won most player of the match and series awards in T20I. With 40 wins in 68 Test matches, he is India's most successful Test captain. Kohli has also contributed to India's successes, including winning the 2011 World Cup and the 2013 Champions trophy\"\n",
    "stemmed=[porter.stem(token) for token in text.split(\" \")]\n",
    "print(stemmed)"
   ]
  },
  {
   "cell_type": "code",
   "execution_count": 58,
   "id": "f036c6e2",
   "metadata": {},
   "outputs": [
    {
     "data": {
      "text/plain": [
       "'caring'"
      ]
     },
     "execution_count": 58,
     "metadata": {},
     "output_type": "execute_result"
    }
   ],
   "source": [
    "from nltk.stem import WordNetLemmatizer\n",
    "lemma=WordNetLemmatizer()\n",
    "lemma.lemmatize(\"caring\") #here the word is noun according to the lemmatizer to change it to care use pos tagging"
   ]
  },
  {
   "cell_type": "code",
   "execution_count": 59,
   "id": "42e9f5a8",
   "metadata": {},
   "outputs": [
    {
     "data": {
      "text/plain": [
       "'care'"
      ]
     },
     "execution_count": 59,
     "metadata": {},
     "output_type": "execute_result"
    }
   ],
   "source": [
    "from nltk.stem import WordNetLemmatizer\n",
    "lemma=WordNetLemmatizer()\n",
    "lemma.lemmatize(\"caring\",pos='v')"
   ]
  },
  {
   "cell_type": "code",
   "execution_count": 60,
   "id": "fc53fa79",
   "metadata": {},
   "outputs": [
    {
     "data": {
      "text/plain": [
       "'good'"
      ]
     },
     "execution_count": 60,
     "metadata": {},
     "output_type": "execute_result"
    }
   ],
   "source": [
    "from nltk.stem import WordNetLemmatizer\n",
    "lemma=WordNetLemmatizer()\n",
    "lemma.lemmatize(\"better\",pos='a')"
   ]
  },
  {
   "cell_type": "code",
   "execution_count": null,
   "id": "00187dac",
   "metadata": {},
   "outputs": [],
   "source": []
  }
 ],
 "metadata": {
  "kernelspec": {
   "display_name": "Python 3 (ipykernel)",
   "language": "python",
   "name": "python3"
  },
  "language_info": {
   "codemirror_mode": {
    "name": "ipython",
    "version": 3
   },
   "file_extension": ".py",
   "mimetype": "text/x-python",
   "name": "python",
   "nbconvert_exporter": "python",
   "pygments_lexer": "ipython3",
   "version": "3.9.12"
  }
 },
 "nbformat": 4,
 "nbformat_minor": 5
}
